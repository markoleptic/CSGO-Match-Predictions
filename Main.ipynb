{
 "cells": [
  {
   "cell_type": "code",
   "execution_count": 1,
   "metadata": {},
   "outputs": [],
   "source": [
    "from sklearn.metrics import accuracy_score\n",
    "from utils import calculate_FPR_TPR, plot_ROC_curve, plot_coefficents_chart, plot_All_coefficents_chart\n",
    "from RandomForest import RandomForest\n",
    "from Perceptron import Perceptron\n",
    "import numpy as np\n",
    "import math\n",
    "\n",
    "Features = [\n",
    "    \"round_number\",\n",
    "    \"team_1\",\n",
    "    \"team_2\",\n",
    "    \"t1_side\",\n",
    "    \"t2_side\",\n",
    "    \"t1_money\",\n",
    "    \"t2_money\",\n",
    "    \"t1_rank\",\n",
    "    \"t2_rank\",\n",
    "    \"map_0\",\n",
    "    \"map_1\",\n",
    "    \"map_2\",\n",
    "    \"map_3\",\n",
    "    \"map_4\",\n",
    "    \"map_5\",\n",
    "    \"map_6\",\n",
    "    \"map_7\",\n",
    "    \"map_8\",\n",
    "    \"map_9\",\n",
    "]\n",
    "\n",
    "coefficent_chart_features = ['Round #', 'Team Name', 'Side (CT/T)', 'Money', 'Team Rank', 'Map']"
   ]
  },
  {
   "attachments": {},
   "cell_type": "markdown",
   "metadata": {},
   "source": [
    "----------\n",
    "Perceptron\n",
    "----------"
   ]
  },
  {
   "cell_type": "code",
   "execution_count": 2,
   "metadata": {},
   "outputs": [
    {
     "name": "stdout",
     "output_type": "stream",
     "text": [
      "Accuracy: 0.6460599295587431\n"
     ]
    },
    {
     "data": {
      "image/png": "[encoded data removed]",
      "text/plain": [
       "<Figure size 432x288 with 1 Axes>"
      ]
     },
     "metadata": {
      "needs_background": "light"
     },
     "output_type": "display_data"
    },
    {
     "data": {
      "image/png": "[encoded data removed]",
      "text/plain": [
       "<Figure size 432x288 with 1 Axes>"
      ]
     },
     "metadata": {
      "needs_background": "light"
     },
     "output_type": "display_data"
    },
    {
     "name": "stdout",
     "output_type": "stream",
     "text": [
      "Stored 'predictions_p' (ndarray)\n"
     ]
    }
   ],
   "source": [
    "# create model object\n",
    "perceptron = Perceptron()\n",
    "\n",
    "# perform any preprocessing for this model, and split into train/test sets\n",
    "X_train, X_test, y_train, y_test = perceptron.pre_process(Features)\n",
    "\n",
    "# fit model using train set\n",
    "perceptron.fit(X_train, y_train)\n",
    "\n",
    "# use fitted model to make predictions on test set\n",
    "predictions = perceptron.predict(X_test)\n",
    "\n",
    "# print the accuracy score\n",
    "accuracy = accuracy_score(y_test, predictions)\n",
    "print(f\"Accuracy: {accuracy}\")\n",
    "\n",
    "# TPR, FPR, ROC\n",
    "fpr_list, tpr_list = calculate_FPR_TPR(X_test, y_test, perceptron.predict_proba)\n",
    "\n",
    "# plot ROC curve\n",
    "plot_ROC_curve(fpr_list, tpr_list)\n",
    "\n",
    "# weights chart setup\n",
    "weights = perceptron.weights\n",
    "np.abs(weights, out=weights)\n",
    "values = []\n",
    "values.append(np.sum(weights[0]) / 2)\n",
    "values.append(np.sum(weights[1:2]) / 2)\n",
    "values.append(np.sum(weights[3:4]) / 2)\n",
    "values.append(np.sum(weights[5:6]) / 2)\n",
    "values.append(np.sum(weights[7:8]) / 2)\n",
    "values.append(np.sum(weights[9:18]) / (10))\n",
    "values = values / np.linalg.norm(values)\n",
    "\n",
    "# plot coefficient weights\n",
    "plot_coefficents_chart(coefficent_chart_features, values)\n",
    "\n",
    "predictions_p = predictions\n",
    "%store predictions_p"
   ]
  },
  {
   "attachments": {},
   "cell_type": "markdown",
   "metadata": {},
   "source": [
    "-------------------\n",
    "Logistic Regression\n",
    "-------------------"
   ]
  },
  {
   "cell_type": "code",
   "execution_count": null,
   "metadata": {},
   "outputs": [],
   "source": [
    "# create model object\n",
    "\n",
    "\n",
    "# perform any preprocessing for this model, and split into train/test sets\n",
    "\n",
    "\n",
    "# fit model using train set\n",
    "\n",
    "\n",
    "# use fitted model to make predictions on test set\n",
    "\n",
    "\n",
    "# print the accuracy score"
   ]
  },
  {
   "attachments": {},
   "cell_type": "markdown",
   "metadata": {},
   "source": [
    "-------------\n",
    "Random Forest\n",
    "-------------"
   ]
  },
  {
   "cell_type": "code",
   "execution_count": 4,
   "metadata": {},
   "outputs": [
    {
     "name": "stdout",
     "output_type": "stream",
     "text": [
      "0\n",
      "1\n",
      "2\n",
      "3\n",
      "4\n",
      "5\n",
      "6\n",
      "7\n",
      "8\n",
      "9\n",
      "10\n",
      "11\n",
      "12\n",
      "13\n",
      "14\n",
      "15\n",
      "16\n",
      "17\n",
      "18\n",
      "19\n",
      "[0. 0. 0. ... 0. 0. 0.] [1 0 1 ... 0 1 0]\n",
      "Accuracy: 0.5119474382070339\n",
      "1 605611\n"
     ]
    }
   ],
   "source": [
    "# create model object\n",
    "forest = RandomForest()\n",
    "\n",
    "# perform any preprocessing for this model, and split into train/test sets\n",
    "X_train, X_test, y_train, y_test = forest.pre_process(Features, use_scalar=True)\n",
    "\n",
    "# fit model using train set\n",
    "forest.fit(X_train, y_train)\n",
    "\n",
    "# use fitted model to make predictions on test set\n",
    "predictions = forest.predict(X_test)\n",
    "print(predictions, y_test)\n",
    "\n",
    "# print the accuracy score\n",
    "accuracy = accuracy_score(y_test, predictions)\n",
    "print(f\"Accuracy: {accuracy}\")\n",
    "\n",
    "count = np.count_nonzero(predictions== 1)\n",
    "print(count, predictions.__len__())\n",
    "\n",
    "predictions_rf = predictions\n",
    "%store predictions_rf"
   ]
  },
  {
   "attachments": {},
   "cell_type": "markdown",
   "metadata": {},
   "source": [
    "-----------\n",
    "Naive Bayes\n",
    "-----------"
   ]
  },
  {
   "cell_type": "code",
   "execution_count": null,
   "metadata": {},
   "outputs": [],
   "source": [
    "# create model object\n",
    "\n",
    "\n",
    "# perform any preprocessing for this model, and split into train/test sets\n",
    "\n",
    "\n",
    "# fit model using train set\n",
    "\n",
    "\n",
    "# use fitted model to make predictions on test set\n",
    "\n",
    "\n",
    "# print the accuracy score"
   ]
  },
  {
   "attachments": {},
   "cell_type": "markdown",
   "metadata": {},
   "source": [
    "-----------\n",
    "Combined Comparison\n",
    "-----------"
   ]
  },
  {
   "cell_type": "code",
   "execution_count": null,
   "metadata": {},
   "outputs": [],
   "source": [
    "#Stuff"
   ]
  }
 ],
 "metadata": {
  "kernelspec": {
   "display_name": "ML",
   "language": "python",
   "name": "python3"
  },
  "language_info": {
   "codemirror_mode": {
    "name": "ipython",
    "version": 3
   },
   "file_extension": ".py",
   "mimetype": "text/x-python",
   "name": "python",
   "nbconvert_exporter": "python",
   "pygments_lexer": "ipython3",
   "version": "3.11.0"
  },
  "orig_nbformat": 4
 },
 "nbformat": 4,
 "nbformat_minor": 2
}
